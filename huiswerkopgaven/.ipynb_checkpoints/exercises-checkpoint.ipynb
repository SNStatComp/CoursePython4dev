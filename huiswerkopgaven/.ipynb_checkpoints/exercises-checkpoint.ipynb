{
 "cells": [
  {
   "cell_type": "markdown",
   "metadata": {},
   "source": [
    "# Extra opgaven Python cursus\n",
    "\n",
    "Omdat de tweede dag van de cursus pas over 2 maanden is, hebben we hier wat extra opgaven om in de tussentijd nog wat te oefenen met Python. Het is niet verplicht maar wel raadzaam om te proberen alle opgaven te maken: ik heb de verschillende opgaven zo gemaakt dat ze verschillende onderdelen raken van het programmeren in Python. Het is ook raadzaam om te proberen zelf deze opgaven te maken, ook al is code voor sommige van deze opgaven zo op internet te vinden: programmeren kun je namelijk alleen leren door het zelf te doen.\n",
    "\n",
    "Indien je vragen hebt over deze opgaven kun je contact opnemen met Guido van den Heuvel (ehvl@cbs.nl)."
   ]
  },
  {
   "cell_type": "markdown",
   "metadata": {},
   "source": [
    "## Opgave 1: Schrikkeljaar\n",
    "\n",
    "Schrijf een functie die bepaalt of een jaartal een schrikkeljaar is of niet. De functie dient als resultaat de waarde True terug te geven voor een schrikkeljaar, en False als het geen schrikkeljaar is. Een schrikkeljaar is als volgt gedefinieerd (https://nl.wikipedia.org/wiki/Schrikkeljaar):\n",
    "    \n",
    "> De schrikkeldag valt in de Gregoriaanse kalender op 29 februari en komt voor als het jaartal restloos deelbaar is door 4, maar niet door 100 – tenzij het jaartal restloos deelbaar door 400 is. 2020 is een schrikkeljaar. Daarvoor waren 2004, 2008, 2012 en 2016 (allemaal deelbaar door 4, maar niet door 100) schrikkeljaren. Ook 1600 (deelbaar door 400) was een schrikkeljaar. 1700, 1800 en 1900 waren dat niet (deelbaar door 100, maar niet door 400) en 2000 weer wel.\n",
    "\n",
    "Test je functie met enkele goed gekozen voorbeelden.\n",
    "\n",
    "Op https://docs.python.org/3/reference/expressions.html#binary-arithmetic-operations is te vinden hoe je kunt nagaan of x deelbaar is door y."
   ]
  },
  {
   "cell_type": "code",
   "execution_count": 2,
   "metadata": {},
   "outputs": [],
   "source": [
    "def is_leapyear(year):\n",
    "    pass    "
   ]
  },
  {
   "cell_type": "markdown",
   "metadata": {},
   "source": [
    "### Testen \n",
    "Idealiter dekken je test cases alle mogelijke gevallen af. Simpel gezegd: voor ieder if statement twee voorbeelden, één waarvoor de voorwaarde waar is en één waarvoor de voorwaarde niet waar is. Dus bijvoorbeeld bij de volgende code:\n",
    "\n",
    "```\n",
    "if a == 1:\n",
    "    print(\"a is 1\")\n",
    "else:\n",
    "    print(\"a is niet gelijk aan 1\")\n",
    "```\n",
    "\n",
    "heb je twee test cases: één met `a=1` en één waarbij `a` een andere waarde heeft. Indien je voorwaarde bestaat uit meerdere onderdelen, dan één voorbeeld voor iedere combinatie:\n",
    "\n",
    "```\n",
    "if a == 1 and b == 2:\n",
    "    print(\"(a, b) is (1, 2)\")\n",
    "else:\n",
    "    print(\"(a, b) != (1, 2)\")\n",
    "```\n",
    "Hier heb je 4 test cases: \n",
    "1. a=1, b=2; \n",
    "2. a=1, b!=2; \n",
    "3. a!=1, b=2; \n",
    "4. a!=1, b!=2\n",
    "\n",
    "Naast deze testgevallen is het ook handig om randgevallen (\"edge cases\") in je test op te nemen. Als je bijvoorbeeld een functie hebt die als input een string heeft, test dan of de functie ook werkt als de input de lege string is. "
   ]
  },
  {
   "cell_type": "markdown",
   "metadata": {},
   "source": [
    "### Functies\n",
    "Als achtergrond, en misschien ten overvloede: een functie is een afgebakend stuk code, waarbij alles wat binnen de functie gebeurt niet zichtbaar is vanuit de rest van je programma. Dus bijvoorbeeld variabelen die je in de functie gebruikt (locale variabelen) blijven binnen die functie en zijn buiten die functie niet beschikbaar. Het is daarom ook mogelijk om dezelfde locale variabele in verschillende functies binnen hetzelfde programma te gebruiken zonder dat er rare dingen gebeuren. Een functie heeft 0 of meer argumenten die je bij het aanroepen van de functie kunt meegeven. In opgave 1 is het jaartal het enige argument. Een argument fungeert binnen de functie als locale variabele. Een functie kan ook een resultaat hebben; daarvoor gebruik je het return statement:\n",
    "```\n",
    "def voorbeeld():\n",
    "    return 1\n",
    "\n",
    "a = voorbeeld()      # a wordt gelijk aan 1\n",
    "```\n",
    "\n",
    "Een return statement beëindigt de functie onmiddellijk: code na een return statement wordt niet uitgevoerd. \n",
    "\n",
    "In de opgaven heb ik steeds de functieheader gegeven, met als functiebody `pass`. De reden voor deze `pass` is dat het dan geldige Python code is, ook al doet de functie niets. Bij het maken van de opdrachten is het de bedoeling om deze `pass` te vervangen door correct werkende code."
   ]
  },
  {
   "cell_type": "markdown",
   "metadata": {},
   "source": [
    "## Opgave 2: Controle van datums\n",
    "\n",
    "Schrijf een functie die bepaalt of een datum (dag, maand en jaar combinatie) geldig is. In een geldige datum kan het jaartal iedere waarde hebben; de maand is een getal van 1 tot en met 12, en de dag is een getal van 1 tot en met de maandlengte: Zo is dag 31 bijvoorbeeld wel geldig in maand 1 (januari) maar niet in maand 4 (april). Je mag ervan uitgaan dat dag, maand en jaar gehele getallen zijn. De functie dient rekening te houden met schrikkeljaren; gebruik daarvoor de functie `is_leapyear` uit de vorige opgave. De functie dient True te retourneren als de datum geldig is en False indien de datum ongeldig is.\n",
    "\n",
    "Test ook deze functie aan de hand van enkele goed gekozen test cases."
   ]
  },
  {
   "cell_type": "code",
   "execution_count": 4,
   "metadata": {},
   "outputs": [],
   "source": [
    "def is_valid_date(day, month, year):\n",
    "    pass    "
   ]
  },
  {
   "cell_type": "markdown",
   "metadata": {},
   "source": [
    "## Opgave 3: Isogram\n",
    "\n",
    "Schrijf een functie die bepaalt of een string een isogram is. In een isogram komt geen enkele letter meer dan één keer voor: https://nl.wikipedia.org/wiki/Isogram. De functie dient True te retourneren als de string een isogram is, en False indien dat niet het geval is. Test ook deze functie weer aan de hand van enkele goed gekozen test cases.\n",
    "\n",
    "* Eenvoudige variant: neem aan dat de input één woord is en alleen kleine letters bevat\n",
    "* Uitgebreide variant: de input kan willekeurige karakters bevatten (en kan dus ook een zin zijn), maar alleen de letters doen mee bij het bepalen of het een isogram is. In deze variant mag een isogram dus bijvoorbeeld wel meerdere spaties bevatten. Verschil tussen hoofdletters en kleine letters moet genegeerd worden\n",
    "\n",
    "<details>\n",
    "    <summary>HINT</summary>\n",
    "gebruik sets\n",
    "</details>"
   ]
  },
  {
   "cell_type": "code",
   "execution_count": 7,
   "metadata": {},
   "outputs": [],
   "source": [
    "def is_isogram(text):\n",
    "    pass"
   ]
  },
  {
   "cell_type": "markdown",
   "metadata": {},
   "source": [
    "## Opgave 4: Pangram\n",
    "Schrijf een functie die bepaalt of een string een pangram is. In een pangram komt iedere letter van het alfabet minimaal één keer voor: https://nl.wikipedia.org/wiki/Pangram. De functie dient True te retourneren als de string een pangram is, en False indien dat niet het geval is. Test ook deze functie weer aan de hand van enkele goed gekozen test cases.\n",
    "\n",
    "Hoe zou je kunnen bepalen of een tekst een volmaakt pangram is?"
   ]
  },
  {
   "cell_type": "code",
   "execution_count": 8,
   "metadata": {},
   "outputs": [],
   "source": [
    "def is_pangram(text):\n",
    "    pass"
   ]
  },
  {
   "cell_type": "markdown",
   "metadata": {},
   "source": [
    "## Opgave 5: Priemfactoren\n",
    "\n",
    "Schrijf een functie die een positief geheel getal ontbindt in priemfactoren. Dus bijvoorbeeld 60 = 2 * 2 * 3 * 5. De functie dient een list te retourneren met alle priemfactoren, dus als de input 60 is, dan is de output de list \\[2, 2, 3, 5\\]. Test ook deze functie weer met enkele goed gekozen test cases. Houd er rekening mee dat aangezien 1 geen priemgetal is, de functie de lege list \\[ \\] dient te retourneren als de input gelijk is aan 1.\n",
    "\n",
    "Het (niet eerder behandelde) while statement kan hierbij van pas komen: <a href=https://docs.python.org/3/reference/compound_stmts.html#while>https://docs.python.org/3/reference/compound_stmts.html#while</a>, zie ook <a href=https://docs.python.org/3/tutorial/introduction.html#first-steps-towards-programming>https://docs.python.org/3/tutorial/introduction.html#first-steps-towards-programming</a>\n"
   ]
  },
  {
   "cell_type": "code",
   "execution_count": null,
   "metadata": {},
   "outputs": [],
   "source": [
    "def prime_factors(number):\n",
    "    pass"
   ]
  },
  {
   "cell_type": "markdown",
   "metadata": {},
   "source": [
    "## Opgave 6: Songtekst\n",
    "In songteksten komt vaak herhaling voor. En daarom is het vaak mogelijk om songteksten heel compact op te slaan, wat meteen een eenvoudig voorbeeld is van datacompressie. Een voorbeeld van een songtekst waarbij dit het geval is, is het nummer Du hast van de Duitse band Rammstein (zie https://www.songfacts.com/lyrics/rammstein/du-hast):\n",
    "```\n",
    "Du\n",
    "Du hast\n",
    "Du hast mich\n",
    "Du hast mich\n",
    "Du hast mich gefragt\n",
    "Du hast mich gefragt\n",
    "Du hast mich gefragt und ich hab' nichts gesagt.\n",
    "```\n",
    "Hier hebben we dus te maken met één zin, waarbij steeds een langer gedeelte van die zin uitgesproken wordt. Schrijf een functie die songteksten als deze op het scherm toont, uitgaande van de input\n",
    "```\n",
    "Du| hast| mich|| gefragt|| und ich hab' nichts gesagt.\n",
    "```\n",
    "Elke verticale streep hierin betekent dat je vanaf dat punt opnieuw begint met de zin en dan doorgaat tot de volgende verticale streep.\n",
    "\n",
    "Opmerking: hoewel we hier alleen Du hast als voorbeeld gebruiken, moet je functie natuurlijk ook in staat zijn om andere songteksten die deze vorm hebben weer te geven.\n"
   ]
  },
  {
   "cell_type": "code",
   "execution_count": 11,
   "metadata": {},
   "outputs": [],
   "source": [
    "duhast_compressed = \"Du| hast| mich|| gefragt|| und ich hab' nichts gesagt.\"\n",
    "\n",
    "def songtext(input):\n",
    "    pass\n",
    "\n",
    "songtext(duhast_compressed)"
   ]
  },
  {
   "cell_type": "markdown",
   "metadata": {},
   "source": [
    "## Opgave 7: speelkaarten\n",
    "Schrijf een functie die een serie speelkaarten die gecodeerd zijn weergeeft in leesbaar Nederlands. Een speelkaart is gecodeerd als een string van 2 karakters: één karakter met de waarde (2 tot en met 9, X = 10, B = Boer, V = Vrouw, H = Koning, A = Aas), gevolgd door één karakter met de kleur (H = Harten, R = Ruiten, S = Schoppen, K = Klaver). Dus bijvoorbeeld \"5S\" voor schoppen vijf, \"VR\" voor ruiten vrouw en \"HH\" voor harten koning.\n",
    "\n",
    "Een serie speelkaarten bestaat uit een aantal van deze twee-karakter afkortingen gescheiden door spaties. Dus bijvoorbeeld \"BH AR VS XS HK\" betekent de serie van vijf kaarten \n",
    "```\n",
    "harten boer\n",
    "ruiten aas\n",
    "schoppen vrouw\n",
    "schoppen 10\n",
    "klaver koning\n",
    "```\n",
    "De te schrijven functie accepteert series gecodeerde speelkaarten van willekeurige lengte een geeft als uitvoer de kaarten in leesbaar Nederlands, zoals in dit voorbeeld. De functie heeft geen returnwaarde. Test de functie weer met enkele relevante test cases. \n",
    "\n",
    "Wat gebeurt er als je een ongeldige code meegeeft?\n",
    "\n",
    "<details>\n",
    "    <summary>HINT</summary>\n",
    "gebruik één of meer dicts om de afkortingen en de betekenis daarvan op te slaan\n",
    "</details>\n"
   ]
  },
  {
   "cell_type": "code",
   "execution_count": null,
   "metadata": {},
   "outputs": [],
   "source": [
    "def print_cards(coded_cards):\n",
    "    pass"
   ]
  },
  {
   "cell_type": "markdown",
   "metadata": {},
   "source": [
    "## Opgave 8: Word count\n",
    "Schrijf een functie die telt hoe vaak ieder woord voorkomt in een tekst. De functie dient een dict te retourneren waarbij de keys gelijk zijn aan de woorden en de values het aantal keer dat die woorden voorkomen. Dus bijvoorbeeld als de input gelijk is aan \"Klein klein kleutertje\" dan is het resultaat de dict { \"klein\": 2, \"kleutertje\": 1 }. Je mag aannemen dat de input alleen letters en spaties bevat, waarbij de spaties als woordscheider fungeren. Verschil in hoofdletters en kleine letters dient genegeerd te worden. Test ook deze functie met enkele relevante test cases."
   ]
  },
  {
   "cell_type": "code",
   "execution_count": 12,
   "metadata": {},
   "outputs": [],
   "source": [
    "def count_words(text):\n",
    "    pass"
   ]
  }
 ],
 "metadata": {
  "kernelspec": {
   "display_name": "Python 3",
   "language": "python",
   "name": "python3"
  },
  "language_info": {
   "codemirror_mode": {
    "name": "ipython",
    "version": 3
   },
   "file_extension": ".py",
   "mimetype": "text/x-python",
   "name": "python",
   "nbconvert_exporter": "python",
   "pygments_lexer": "ipython3",
   "version": "3.7.3"
  }
 },
 "nbformat": 4,
 "nbformat_minor": 2
}
