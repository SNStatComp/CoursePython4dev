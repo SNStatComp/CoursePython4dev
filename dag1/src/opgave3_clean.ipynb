{
 "cells": [
  {
   "cell_type": "code",
   "execution_count": 1,
   "metadata": {},
   "outputs": [],
   "source": [
    "import csv\n",
    "\n",
    "def read_csv_column(filename, column_name):\n",
    "    with open(filename, newline = \"\") as f:\n",
    "        reader = csv.DictReader(f)\n",
    "        \n",
    "        return [ row[column_name] for row in reader ]\n",
    "    \n",
    "def plot_histogram(categories):\n",
    "    counts = {}\n",
    "    for category in categories:\n",
    "        counts[category] = counts.get(category, 0) + 1\n",
    "        \n",
    "    for label, count in counts.items():\n",
    "        print(f\"{label[:20]:20} | \" + \"*\" * count)"
   ]
  },
  {
   "cell_type": "code",
   "execution_count": 3,
   "metadata": {},
   "outputs": [
    {
     "name": "stdout",
     "output_type": "stream",
     "text": [
      "Failure (parachute)  | **\n",
      "No attempt           | ******************\n",
      "Uncontrolled (ocean) | **\n",
      "Controlled (ocean)   | *****\n",
      "Failure (drone ship) | *****\n",
      "Precluded (drone shi | *\n",
      "Success (ground pad) | *********\n",
      "Success (drone ship) | **************\n"
     ]
    }
   ],
   "source": [
    "landing_outcomes = read_csv_column(\"../data/spacex_launch_data.csv\", \"Landing Outcome\")\n",
    "plot_histogram(landing_outcomes)"
   ]
  }
 ],
 "metadata": {
  "kernelspec": {
   "display_name": "Python 3",
   "language": "python",
   "name": "python3"
  },
  "language_info": {
   "codemirror_mode": {
    "name": "ipython",
    "version": 3
   },
   "file_extension": ".py",
   "mimetype": "text/x-python",
   "name": "python",
   "nbconvert_exporter": "python",
   "pygments_lexer": "ipython3",
   "version": "3.7.3"
  }
 },
 "nbformat": 4,
 "nbformat_minor": 2
}
