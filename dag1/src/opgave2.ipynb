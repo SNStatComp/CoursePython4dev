{
 "cells": [
  {
   "cell_type": "markdown",
   "metadata": {},
   "source": [
    "# Opgave 2\n",
    "1. Schrijf een functie ndigits() die bepaalt uit hoeveel cijfers een positief geheel getal bestaat: bijvoorbeeld ndigits(14) geeft 2. Uit hoeveel cijfers bestaat 500 faculteit?\n",
    "\n",
    "2. Schrijf een functie ispalin() die controleert of de inputstring een palindroom is. Een palindroom is een woord dat hetzelfde is als je het achterstevoren leest. Bijvoorbeeld ispalin(\"Palin\") levert False, maar ispalin(\"parterretrap\") levert True. \n",
    "\n",
    "3. Pas deze functie zo aan dat ie ook met hele zinnen werkt, maar dan alle leestekens en capitalisatie negeert. Dus bijvoorbeeld ispalin(\"Dammit, I'm mad\") geeft True.\n",
    "\n",
    "2. Schrijf een functie titlecase() die een string in titlecase zet. Van ieder woord in deze string moet de eerste letter een hoofdletter worden, en alle andere letters kleine letters. Bijvoorbeeld titlecase(\"NOBODY expects the Spanish Inquisition!\") geeft \"Nobody Expects The Spanish Inquisition!\" Je mag aannemen dat woorden altijd gescheiden worden door spaties.\n"
   ]
  },
  {
   "cell_type": "code",
   "execution_count": null,
   "metadata": {},
   "outputs": [],
   "source": []
  }
 ],
 "metadata": {
  "kernelspec": {
   "display_name": "Python 3",
   "language": "python",
   "name": "python3"
  },
  "language_info": {
   "codemirror_mode": {
    "name": "ipython",
    "version": 3
   },
   "file_extension": ".py",
   "mimetype": "text/x-python",
   "name": "python",
   "nbconvert_exporter": "python",
   "pygments_lexer": "ipython3",
   "version": "3.7.3"
  }
 },
 "nbformat": 4,
 "nbformat_minor": 2
}
