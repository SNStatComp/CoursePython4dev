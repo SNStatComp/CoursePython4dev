{
 "cells": [
  {
   "cell_type": "markdown",
   "metadata": {},
   "source": [
    "# Opgave 2 met uitwerking\n",
    "1. Schrijf een functie ndigits() die bepaalt uit hoeveel cijfers een positief geheel getal bestaat: bijvoorbeeld ndigits(14) geeft 2. Uit hoeveel cijfers bestaat 500 faculteit?\n",
    "\n",
    "2. (a) Schrijf een functie ispalin() die controleert of de inputstring een palindroom is. Een palindroom is een woord dat hetzelfde is als je het achterstevoren leest. Bijvoorbeeld ispalin(\"Palin\") is False, maar ispalin(\"parterretrap\") is True. (b) Pas je functie zo aan dat ie ook met hele zinnen werkt, maar dan alle leestekens en capitalisatie negeert. Dus bijvoorbeeld ispalin(\"Dammit, I'm mad\") geeft True.\n",
    "\n",
    "2. Schrijf een functie titlecase() die een string in titlecase zet. Van ieder woord in deze string moet de eerste letter een hoofdletter worden, en alle andere letters kleine letters. Bijvoorbeeld titlecase(\"NOBODY expects the Spanish Inquisition!\") geeft \"Nobody Expects The Spanish Inquisition!\" Je mag aannemen dat woorden altijd gescheiden worden door spaties.\n",
    "\n"
   ]
  },
  {
   "cell_type": "code",
   "execution_count": null,
   "metadata": {},
   "outputs": [],
   "source": [
    "import math\n",
    "\n",
    "def fac(x):\n",
    "    \"\"\"\n",
    "    The docstring is meant to document a function. While not\n",
    "    mandatory, it is good practice to use docstrings.\n",
    "    \n",
    "    This function determines the factorial of the input,\n",
    "    which is assumed to be an integer.\n",
    "    \n",
    "    Note that the math module contains the factorial function,\n",
    "    so this one is just an example\n",
    "    \"\"\"\n",
    "    if x == 0:\n",
    "        return 1\n",
    "    else:\n",
    "        result = x * fac(x-1)\n",
    "        return result\n",
    "\n",
    "def ndigits(x):\n",
    "    return len(str(x))\n",
    "\n",
    "print(ndigits(14))\n",
    "print(ndigits(fac(500)))\n",
    "print(ndigits(math.factorial(500)))"
   ]
  },
  {
   "cell_type": "code",
   "execution_count": null,
   "metadata": {},
   "outputs": [],
   "source": [
    "def ispalin1(s):\n",
    "    l = list(s)\n",
    "    m = l[:]                  # Of l.copy()\n",
    "    m.reverse()               # of m = list(reversed(l))\n",
    "    return l == m\n",
    "\n",
    "print(ispalin1(\"Palin\"))\n",
    "print(ispalin1(\"parterretrap\"))"
   ]
  },
  {
   "cell_type": "code",
   "execution_count": null,
   "metadata": {},
   "outputs": [],
   "source": [
    "def ispalin2(s):\n",
    "    l = [c.lower() for c in s if c.isalpha()]\n",
    "    m = list(reversed(l))\n",
    "    return l == m\n",
    "\n",
    "print(ispalin2(\"Palin\"))\n",
    "print(ispalin2(\"parterretrap\"))\n",
    "print(ispalin2(\"Dammit, I'm mad\"))"
   ]
  },
  {
   "cell_type": "code",
   "execution_count": 3,
   "metadata": {},
   "outputs": [
    {
     "name": "stdout",
     "output_type": "stream",
     "text": [
      "Nobody Expects The Spanish Inquisition!\n"
     ]
    }
   ],
   "source": [
    "def titlecase1(s):\n",
    "    Words = [ word.capitalize() for word in s.lower().split() ]\n",
    "    return \" \".join(Words)\n",
    "\n",
    "print(titlecase1(\"NOBODY expects the Spanish Inquisition!\"))"
   ]
  },
  {
   "cell_type": "code",
   "execution_count": 4,
   "metadata": {},
   "outputs": [
    {
     "data": {
      "text/plain": [
       "'Nobody'"
      ]
     },
     "execution_count": 4,
     "metadata": {},
     "output_type": "execute_result"
    }
   ],
   "source": [
    "\"NOBODY\".capitalize()"
   ]
  },
  {
   "cell_type": "code",
   "execution_count": 8,
   "metadata": {},
   "outputs": [
    {
     "name": "stdout",
     "output_type": "stream",
     "text": [
      "Nobody Expects The Spanish Inquisition!\n"
     ]
    }
   ],
   "source": [
    "def titlecase2(s):\n",
    "    result = \"\"\n",
    "    start_word = True\n",
    "    \n",
    "    for c in s:\n",
    "        if start_word == True:\n",
    "            start_word = False\n",
    "            result += c.upper()\n",
    "        else:\n",
    "            result += c.lower()\n",
    "        if c == \" \":\n",
    "            start_word = True\n",
    "            \n",
    "    return result\n",
    "\n",
    "print(titlecase2(\"NOBODY expects the Spanish Inquisition!\"))"
   ]
  },
  {
   "cell_type": "code",
   "execution_count": 11,
   "metadata": {},
   "outputs": [
    {
     "name": "stdout",
     "output_type": "stream",
     "text": [
      "Nobody Expects The Spanish Inquisition!\n"
     ]
    }
   ],
   "source": [
    "def titlecase2(s):\n",
    "    result = \"\"\n",
    "    start_word = True\n",
    "    \n",
    "    for c in s:\n",
    "        if start_word == True:\n",
    "            result += c.upper()\n",
    "        else:\n",
    "            result += c.lower()\n",
    "        start_word = (c == \" \")\n",
    "            \n",
    "    return result\n",
    "\n",
    "print(titlecase2(\"NOBODY expects the Spanish Inquisition!\"))          "
   ]
  },
  {
   "cell_type": "code",
   "execution_count": 2,
   "metadata": {},
   "outputs": [
    {
     "name": "stdout",
     "output_type": "stream",
     "text": [
      "Nobody Expects The Spanish Inquisition!\n"
     ]
    }
   ],
   "source": [
    "def titlecase3(s):\n",
    "    return s.title()\n",
    "\n",
    "print(titlecase3(\"NOBODY expects the Spanish Inquisition!\"))"
   ]
  },
  {
   "cell_type": "code",
   "execution_count": 6,
   "metadata": {},
   "outputs": [
    {
     "name": "stdout",
     "output_type": "stream",
     "text": [
      "Hoi\n"
     ]
    }
   ],
   "source": [
    "a = True\n",
    "if a == True:\n",
    "    print(\"Hoi\")"
   ]
  },
  {
   "cell_type": "code",
   "execution_count": 7,
   "metadata": {},
   "outputs": [],
   "source": [
    "a = \"Guido\"\n",
    "b = \"Hallo\"\n",
    "if a == b:\n",
    "    print(\"Same\")"
   ]
  },
  {
   "cell_type": "code",
   "execution_count": null,
   "metadata": {},
   "outputs": [],
   "source": []
  }
 ],
 "metadata": {
  "kernelspec": {
   "display_name": "Python 3",
   "language": "python",
   "name": "python3"
  },
  "language_info": {
   "codemirror_mode": {
    "name": "ipython",
    "version": 3
   },
   "file_extension": ".py",
   "mimetype": "text/x-python",
   "name": "python",
   "nbconvert_exporter": "python",
   "pygments_lexer": "ipython3",
   "version": "3.7.3"
  }
 },
 "nbformat": 4,
 "nbformat_minor": 2
}
