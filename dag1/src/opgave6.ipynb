{
 "cells": [
  {
   "cell_type": "markdown",
   "metadata": {},
   "source": [
    "# Opgave 6\n",
    "\n",
    "1. Breid de Vector class uit met een method `serialize()` die een string retourneert die de vector representeert. Bijvoorbeeld als `v = Vector(1, 2, 3)`, dan levert `v.serialize()` de string \"(1, 2, 3)\" op\n",
    "2. Breid de Vector class uit met een method `add()` om twee vectoren bij elkaar op te tellen. Optelling is elementsgewijs, dus bijvoorbeeld als `v = Vector(1, 2, 3)` en `w = Vector(4, 5, 6)`, dan levert `v.add(w)` de Vector `(5, 7, 9)` als returnwaarde\n",
    "3. Wat krijg je als je `print(v)` doet? En wat doet dat als je de `serialize()` method van vraag 1 hernoemt in `__str__()`?\n",
    "4. Wat moet je nog doen om ervoor te zorgen dat je `v + w` kunt schrijven in je code, in plaats van `v.add(w)`? Maak hierbij gebruik van de informatie in https://docs.python.org/3/reference/datamodel.html#emulating-numeric-types\n",
    "5. Voeg een method toe aan de Vector class om een vector met een getal te vermenigvldigen. Vermenigvuldiging is elementsgewijs, dus de x, y en z coordinaten van de Vector worden alle drie met hetzelfde getal vermenigvuldigd. Dus bijvoorbeeld als `v = Vector(1, 2, 3)` en `r = 3`, dan is het resultaat de Vector (3, 6, 9). Hoe moet je deze method noemen zodat je `v * r` kunt schrijven in je code? En wat moet je doen om ervoor te zorgen dat je in plaats daarvan ook `r * v` kunt schrijven?"
   ]
  },
  {
   "cell_type": "code",
   "execution_count": null,
   "metadata": {},
   "outputs": [],
   "source": [
    "class Vector:\n",
    "    def __init__(self, x, y, z):\n",
    "        self.x = x\n",
    "        self.y = y\n",
    "        self.z = z"
   ]
  }
 ],
 "metadata": {
  "kernelspec": {
   "display_name": "Python 3",
   "language": "python",
   "name": "python3"
  },
  "language_info": {
   "codemirror_mode": {
    "name": "ipython",
    "version": 3
   },
   "file_extension": ".py",
   "mimetype": "text/x-python",
   "name": "python",
   "nbconvert_exporter": "python",
   "pygments_lexer": "ipython3",
   "version": "3.7.3"
  }
 },
 "nbformat": 4,
 "nbformat_minor": 2
}
