{
 "cells": [
  {
   "cell_type": "markdown",
   "metadata": {},
   "source": [
    "# Opgave 3\n",
    "\n",
    "1. Schrijf een functie read_csv_column() die een csv file inleest en daar één kolom uit selecteert. De functie heeft twee inputparameters: de naam van het bestand en de naam van de kolom. De return-waarde is de inhoud van de genoemde kolom uit het opgegeven bestand, als list. Doe dit eerst met csv.DictReader(). Zie hiervoor de Python documentatie op https://docs.python.org/3/library/csv.html. Voor een extra uitdaging: gebruik csv.reader() in plaats van csv.DictReader(). Je kunt het voorbeeldbestand \"data/spacex_launch_data.csv\" gebruiken om mee te testen.\n",
    "2. Schrijf een functie plot_histogram() die de inhoud van een kolom zoals die is ingelezen door read_csv_column() plot als histogram op de tekstconsole. Bijvoorbeeld\n",
    "```\n",
    "CCAFS LC-40          | **************************\n",
    "VAFB SLC-4E          | **********\n",
    "KSC LC-39A           | *************\n",
    "CCAFS SLC-40         | *******\n",
    "```\n",
    "voor de kolom \"Launch Site\" uit het voorbeeldbestand. Plot een histogram van de kolom \"Landing Outcomes\" "
   ]
  },
  {
   "cell_type": "code",
   "execution_count": null,
   "metadata": {},
   "outputs": [],
   "source": []
  }
 ],
 "metadata": {
  "kernelspec": {
   "display_name": "Python 3",
   "language": "python",
   "name": "python3"
  },
  "language_info": {
   "codemirror_mode": {
    "name": "ipython",
    "version": 3
   },
   "file_extension": ".py",
   "mimetype": "text/x-python",
   "name": "python",
   "nbconvert_exporter": "python",
   "pygments_lexer": "ipython3",
   "version": "3.7.3"
  }
 },
 "nbformat": 4,
 "nbformat_minor": 2
}
