{
 "cells": [
  {
   "cell_type": "code",
   "execution_count": null,
   "metadata": {},
   "outputs": [],
   "source": [
    "class Vector:\n",
    "    def __init__(self, x, y, z):\n",
    "        self.x = x\n",
    "        self.y = y\n",
    "        self.z = z\n",
    "\n",
    "    def serialize(self):\n",
    "        return f\"({self.x}, {self.y}, {self.z})\"\n",
    "    \n",
    "    def add(self, w):\n",
    "        return Vector(self.x + w.x, self.y + w.y, self.z + w.z)\n",
    "        \n",
    "v = Vector(1, 2, 3)\n",
    "print(v.serialize())\n",
    "w = Vector(4, 5, 6)\n",
    "print(v.add(w).serialize())"
   ]
  },
  {
   "cell_type": "code",
   "execution_count": null,
   "metadata": {},
   "outputs": [],
   "source": [
    "print(v)"
   ]
  },
  {
   "cell_type": "code",
   "execution_count": null,
   "metadata": {},
   "outputs": [],
   "source": [
    "class Vector:\n",
    "    def __init__(self, x, y, z):\n",
    "        self.x = x\n",
    "        self.y = y\n",
    "        self.z = z\n",
    "\n",
    "    def __str__(self):\n",
    "        return f\"({self.x}, {self.y}, {self.z})\"\n",
    "    \n",
    "    def add(self, w):\n",
    "        return Vector(self.x + w.x, self.y + w.y, self.z + w.z)\n",
    "        \n",
    "v = Vector(1, 2, 3)\n",
    "print(v)"
   ]
  },
  {
   "cell_type": "code",
   "execution_count": null,
   "metadata": {},
   "outputs": [],
   "source": [
    "class Vector:\n",
    "    def __init__(self, x, y, z):\n",
    "        self.x = x\n",
    "        self.y = y\n",
    "        self.z = z\n",
    "\n",
    "    def __str__(self):\n",
    "        return f\"({self.x}, {self.y}, {self.z})\"\n",
    "    \n",
    "    def __add__(self, w):\n",
    "        return Vector(self.x + w.x, self.y + w.y, self.z + w.z)\n",
    "        \n",
    "v = Vector(1, 2, 3)\n",
    "w = Vector(4, 5, 6)\n",
    "\n",
    "print(v + w)"
   ]
  },
  {
   "cell_type": "code",
   "execution_count": null,
   "metadata": {},
   "outputs": [],
   "source": [
    "class Vector:\n",
    "    def __init__(self, x, y, z):\n",
    "        self.x = x\n",
    "        self.y = y\n",
    "        self.z = z\n",
    "\n",
    "    def __str__(self):\n",
    "        return f\"({self.x}, {self.y}, {self.z})\"\n",
    "    \n",
    "    def __add__(self, w):\n",
    "        return Vector(self.x + w.x, self.y + w.y, self.z + w.z)\n",
    "\n",
    "    def __mul__(self, r):\n",
    "        return Vector(self.x * r, self.y * r, self.z * r)\n",
    "    \n",
    "    def __rmul__(self, r):\n",
    "        return self.__mul__(r)\n",
    "    \n",
    "v = Vector(1, 2, 3)\n",
    "print(v * 3)\n",
    "print(3 * v)"
   ]
  },
  {
   "cell_type": "code",
   "execution_count": null,
   "metadata": {},
   "outputs": [],
   "source": []
  }
 ],
 "metadata": {
  "kernelspec": {
   "display_name": "Python 3",
   "language": "python",
   "name": "python3"
  },
  "language_info": {
   "codemirror_mode": {
    "name": "ipython",
    "version": 3
   },
   "file_extension": ".py",
   "mimetype": "text/x-python",
   "name": "python",
   "nbconvert_exporter": "python",
   "pygments_lexer": "ipython3",
   "version": "3.7.3"
  }
 },
 "nbformat": 4,
 "nbformat_minor": 2
}
