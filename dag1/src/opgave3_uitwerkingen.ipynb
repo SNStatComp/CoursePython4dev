{
 "cells": [
  {
   "cell_type": "markdown",
   "metadata": {},
   "source": [
    "# Opgave 3 uitwerkingen\n",
    "\n",
    "1. Schrijf een functie read_csv_column() die een csv file inleest en daar één kolom uit selecteert. De functie heeft twee inputparameters: de naam van het bestand en de naam van de kolom. De return-waarde is de inhoud van de genoemde kolom uit het opgegeven bestand, als list. Gebruik hiervoor csv.DictReader() uit de Python documentatie op https://docs.python.org/3/library/csv.html. Voor een extra uitdaging: gebruik csv.reader() in plaats van csv.DictReader(). Je kunt het voorbeeldbestand \"data/spacex_launch_data.csv\" gebruiken om mee te testen.\n",
    "2. Schrijf een functie plot_histogram() die de inhoud van een kolom zoals die is ingelezen door read_csv_column() plot als histogram op de tekstconsole. Bijvoorbeeld\n",
    "```\n",
    "CCAFS LC-40          | **************************\n",
    "VAFB SLC-4E          | **********\n",
    "KSC LC-39A           | *************\n",
    "CCAFS SLC-40         | *******\n",
    "```\n",
    "voor de kolom \"Launch Site\" uit het voorbeeldbestand. Plot een histogram van de kolom \"Landing Outcomes\" "
   ]
  },
  {
   "cell_type": "code",
   "execution_count": null,
   "metadata": {},
   "outputs": [],
   "source": [
    "import csv\n",
    "\n",
    "def read_csv_column1a(filename, column_name):\n",
    "    with open(filename, newline = \"\") as f:\n",
    "        reader = csv.reader(f)\n",
    "        colnum = None\n",
    "        result = []\n",
    "        \n",
    "        for row in reader:\n",
    "            if colnum is None:\n",
    "                colnum = row.index(column_name)\n",
    "            else:\n",
    "                result.append(row[colnum])\n",
    "                \n",
    "    return result\n",
    "\n",
    "print(read_csv_column1a(\"../data/spacex_launch_data.csv\", \"Landing Outcome\"))"
   ]
  },
  {
   "cell_type": "code",
   "execution_count": null,
   "metadata": {},
   "outputs": [],
   "source": [
    "def read_csv_column1b(filename, column_name):\n",
    "    with open(filename, newline = \"\") as f:\n",
    "        reader = csv.reader(f)\n",
    "\n",
    "        headers = next(reader)\n",
    "        colnum = headers.index(column_name)\n",
    "        \n",
    "        result = [ row[colnum] for row in reader ]\n",
    "                \n",
    "    return result\n",
    "\n",
    "print(read_csv_column1b(\"../data/spacex_launch_data.csv\", \"Landing Outcome\"))"
   ]
  },
  {
   "cell_type": "code",
   "execution_count": null,
   "metadata": {},
   "outputs": [],
   "source": [
    "def read_csv_column2(filename, column_name):\n",
    "    with open(filename, newline = \"\") as f:\n",
    "        reader = csv.DictReader(f)\n",
    "        \n",
    "        return [ row[column_name] for row in reader ]\n",
    "    \n",
    "print(read_csv_column2(\"../data/spacex_launch_data.csv\", \"Landing Outcome\"))"
   ]
  },
  {
   "cell_type": "code",
   "execution_count": null,
   "metadata": {},
   "outputs": [],
   "source": [
    "def plot_histogram(categories):\n",
    "    counts = {}\n",
    "    for category in categories:\n",
    "        counts[category] = counts.get(category, 0) + 1\n",
    "        \n",
    "    for label, count in counts.items():\n",
    "        print(f\"{label[:20]:20} | \" + \"*\" * count)\n",
    "\n",
    "launchpads = read_csv_column2(\"../data/spacex_launch_data.csv\", \"Launch Site\")\n",
    "plot_histogram(launchpads)"
   ]
  },
  {
   "cell_type": "code",
   "execution_count": null,
   "metadata": {},
   "outputs": [],
   "source": [
    "landing_outcomes = read_csv_column1(\"../data/spacex_launch_data.csv\", \"Landing Outcome\")\n",
    "plot_histogram(landing_outcomes)"
   ]
  },
  {
   "cell_type": "code",
   "execution_count": null,
   "metadata": {},
   "outputs": [],
   "source": []
  }
 ],
 "metadata": {
  "kernelspec": {
   "display_name": "Python 3",
   "language": "python",
   "name": "python3"
  },
  "language_info": {
   "codemirror_mode": {
    "name": "ipython",
    "version": 3
   },
   "file_extension": ".py",
   "mimetype": "text/x-python",
   "name": "python",
   "nbconvert_exporter": "python",
   "pygments_lexer": "ipython3",
   "version": "3.7.3"
  }
 },
 "nbformat": 4,
 "nbformat_minor": 2
}
